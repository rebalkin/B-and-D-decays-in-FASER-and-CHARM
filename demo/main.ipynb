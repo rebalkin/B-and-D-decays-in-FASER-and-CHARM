{
 "cells": [
  {
   "cell_type": "code",
   "execution_count": null,
   "id": "210adc1b",
   "metadata": {},
   "outputs": [],
   "source": [
    "import os\n",
    "os.chdir('..')\n",
    "\n",
    "import lib.spectrum as spec\n",
    "import lib.signal as sig\n",
    "import numpy as np\n",
    "import matplotlib.pyplot as plt"
   ]
  },
  {
   "cell_type": "code",
   "execution_count": null,
   "id": "f1d14618",
   "metadata": {},
   "outputs": [],
   "source": [
    " Xspec_LHC = spec.Xspectrum(mX=0.1,decaying_meson='B',exp='LHC',Ntheta=100,Nphi=10,eps=10**(-6))\n",
    " Xspec_CHARM = spec.Xspectrum(mX=0.1,decaying_meson='B',exp='CHARM',Ntheta=100,Nphi=10,eps=10**(-6))\n",
    "# Can take some time to run dependeing on Ntheta and Nphi"
   ]
  },
  {
   "cell_type": "code",
   "execution_count": null,
   "id": "0ae59c81",
   "metadata": {},
   "outputs": [],
   "source": [
    "#  np.savetxt('./demo/Xspec_LHC.txt', Xspec_LHC, fmt='%.5e')\n",
    "#  np.savetxt('./demo/Xspec_CHARM.txt', Xspec_CHARM, fmt='%.5e')"
   ]
  },
  {
   "cell_type": "code",
   "execution_count": null,
   "id": "de619170",
   "metadata": {},
   "outputs": [],
   "source": [
    "# Xspec_LHC = np.loadtxt('./demo/Xspec_LHC.txt')\n",
    "# Xspec_CHARM = np.loadtxt('./demo/Xspec_CHARM.txt')"
   ]
  },
  {
   "cell_type": "code",
   "execution_count": null,
   "id": "293c21e4",
   "metadata": {},
   "outputs": [],
   "source": [
    "tauVals = np.logspace(-3,3,100) #in meters\n",
    "FASER_result = [];\n",
    "CHARM_result = [];\n",
    "for tau in tauVals:\n",
    "   FASER_result.append(sig.get_events(Xspec_LHC, 0.1, tau,'B','FASER'))\n",
    "   CHARM_result.append(sig.get_events(Xspec_CHARM, 0.1, tau,'B','CHARM'))\n",
    "# Runs pretty fast"
   ]
  },
  {
   "cell_type": "code",
   "execution_count": null,
   "id": "e4c70333",
   "metadata": {},
   "outputs": [],
   "source": [
    "FASER_result_flat = np.vstack(FASER_result)\n",
    "CHARM_result_flat = np.vstack(CHARM_result)"
   ]
  },
  {
   "cell_type": "code",
   "execution_count": null,
   "id": "34e21a60",
   "metadata": {},
   "outputs": [],
   "source": [
    "plt.figure()\n",
    "line1, = plt.plot(FASER_result_flat[:,1], 3/FASER_result_flat[:,2], label='FASER',linewidth=2.25)\n",
    "line2, = plt.plot(FASER_result_flat[:,1], 3/FASER_result_flat[:,3], label='FASER2',linewidth=2.25)\n",
    "line3, = plt.plot(CHARM_result_flat[:,1], 3/CHARM_result_flat[:,2], label='CHARM',linewidth=2.25)\n",
    "\n",
    "# Get the color of the first curve\n",
    "curve_color = line1.get_color()\n",
    "\n",
    "# Place a rotated label on the first curve\n",
    "x = FASER_result_flat[50,1]\n",
    "y = 1.5*(3/FASER_result_flat[50,2])\n",
    "plt.text(x, y, 'FASER', fontsize=10, color=curve_color, rotation=15)  # rotation in degrees\n",
    "\n",
    "# Get the color of the second curve\n",
    "curve_color_2 = line2.get_color()\n",
    "\n",
    "# Place a rotated label on the second curve\n",
    "x2 = FASER_result_flat[50,1]\n",
    "y2 = 1.5*(3/FASER_result_flat[50,3])\n",
    "plt.text(x2, y2, 'FASER2', fontsize=10, color=curve_color_2, rotation=15)  # rotation in degrees\n",
    "\n",
    "# Place a rotated label on the thirs curve\n",
    "curve_color_3 = line3.get_color()\n",
    "x3 = CHARM_result_flat[55,1]\n",
    "y3 = 1.5*(3/CHARM_result_flat[55,2])\n",
    "plt.text(x3, y3, 'CHARM', fontsize=10, color=curve_color_3, rotation=15)  # rotation in degrees\n",
    "plt.text(1e0, 0.2, r'$m_X=0.1\\,\\mathrm{GeV}$', fontsize=12)\n",
    "plt.xlabel('$c\\\\tau$ (m)')\n",
    "plt.ylabel('$\\\\text{Br}(B \\\\to K\\\\, X)\\\\text{Br}(X \\\\to \\\\text{visible})$')\n",
    "plt.xscale('log')\n",
    "plt.yscale('log')\n",
    "plt.xlim([1e-3, 1e1])\n",
    "plt.ylim([1e-10, 1])\n",
    "plt.show()"
   ]
  },
  {
   "cell_type": "code",
   "execution_count": null,
   "id": "fb7accf0",
   "metadata": {},
   "outputs": [],
   "source": []
  }
 ],
 "metadata": {
  "kernelspec": {
   "display_name": "Python 3",
   "language": "python",
   "name": "python3"
  },
  "language_info": {
   "codemirror_mode": {
    "name": "ipython",
    "version": 3
   },
   "file_extension": ".py",
   "mimetype": "text/x-python",
   "name": "python",
   "nbconvert_exporter": "python",
   "pygments_lexer": "ipython3",
   "version": "3.12.1"
  }
 },
 "nbformat": 4,
 "nbformat_minor": 5
}
